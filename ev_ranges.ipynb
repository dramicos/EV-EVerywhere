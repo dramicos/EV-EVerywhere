{
 "cells": [
  {
   "cell_type": "markdown",
   "id": "cb80e932",
   "metadata": {},
   "source": [
    "# Code to convert the excel file to a usable json"
   ]
  },
  {
   "cell_type": "code",
   "execution_count": 1,
   "id": "22b7d62d",
   "metadata": {},
   "outputs": [],
   "source": [
    "import pandas as pd\n",
    "\n",
    "# read in the excel file dropping the top junk rows\n",
    "ev_ranges_file = \"Data/10963_EV_range_efficiency_1-6-22.xlsx\"\n",
    "ev_ranges_df = pd.read_excel(ev_ranges_file, skiprows=2)\n",
    "\n",
    "# Removing unused data columns\n",
    "\n",
    "ev_ranges_df.drop(ev_ranges_df.columns[[0,5,6,7,8,9]], axis=1, inplace=True)\n",
    "\n",
    "\n",
    "# Removes the trailing NaNs\n",
    "ev_ranges_df.dropna(inplace=True)\n",
    "\n",
    "# Group by year with mean of ranges then return to a dataframe format\n",
    "ev_gbymean = ev_ranges_df.groupby(\"Model Year\").mean().reset_index()\n",
    "\n",
    "# Group by year with max of ranges then return to a dataframe format\n",
    "ev_gbymax = ev_ranges_df.groupby(\"Model Year\")[\"Range\"].max().reset_index()\n",
    "\n",
    "# Merge the two grouped dataframes back to one\n",
    "ev_ranges_by_year = pd.merge(ev_gbymean,ev_gbymax, how=\"left\", on=\"Model Year\")\n",
    "\n",
    "# Rename the columns\n",
    "ev_ranges_by_year.rename(columns={'Range_x' : 'Average Range', 'Range_y' : 'Max Range'}, inplace=True)\n",
    "\n",
    "# Remove first two rows for continuous years\n",
    "ev_ranges_by_year.drop([0,1], inplace=True)\n",
    "\n",
    "ev_ranges_by_year.reset_index(drop=True, inplace=True)\n",
    "\n",
    "# Export final dataframe to json and put in Data folder\n",
    "ev_ranges_by_year.to_json(r'Data/EV-Ranges.json', orient=\"records\")"
   ]
  }
 ],
 "metadata": {
  "kernelspec": {
   "display_name": "Python 3 (ipykernel)",
   "language": "python",
   "name": "python3"
  },
  "language_info": {
   "codemirror_mode": {
    "name": "ipython",
    "version": 3
   },
   "file_extension": ".py",
   "mimetype": "text/x-python",
   "name": "python",
   "nbconvert_exporter": "python",
   "pygments_lexer": "ipython3",
   "version": "3.8.13"
  },
  "vscode": {
   "interpreter": {
    "hash": "490f1c68ed42f2c5a574e22fb9e03ff49b98516de8582ff1c5d4fb43fb70f61b"
   }
  }
 },
 "nbformat": 4,
 "nbformat_minor": 5
}
